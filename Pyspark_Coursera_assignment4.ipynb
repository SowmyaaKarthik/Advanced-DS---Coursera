{
  "nbformat": 4,
  "nbformat_minor": 0,
  "metadata": {
    "colab": {
      "provenance": []
    },
    "kernelspec": {
      "name": "python3",
      "display_name": "Python 3"
    },
    "language_info": {
      "name": "python"
    }
  },
  "cells": [
    {
      "cell_type": "code",
      "execution_count": null,
      "metadata": {
        "colab": {
          "base_uri": "https://localhost:8080/"
        },
        "id": "5F0LeNDcCDSd",
        "outputId": "ceae5c78-6366-4337-e57e-835da9b8b307"
      },
      "outputs": [
        {
          "output_type": "stream",
          "name": "stdout",
          "text": [
            "Looking in indexes: https://pypi.org/simple, https://us-python.pkg.dev/colab-wheels/public/simple/\n",
            "Collecting pyspark==3.2.1\n",
            "  Downloading pyspark-3.2.1.tar.gz (281.4 MB)\n",
            "\u001b[2K     \u001b[90m━━━━━━━━━━━━━━━━━━━━━━━━━━━━━━━━━━━━━━━\u001b[0m \u001b[32m281.4/281.4 MB\u001b[0m \u001b[31m3.6 MB/s\u001b[0m eta \u001b[36m0:00:00\u001b[0m\n",
            "\u001b[?25h  Preparing metadata (setup.py) ... \u001b[?25l\u001b[?25hdone\n",
            "Collecting systemds==2.2.1\n",
            "  Downloading systemds-2.2.1-py3-none-any.whl (50.9 MB)\n",
            "\u001b[2K     \u001b[90m━━━━━━━━━━━━━━━━━━━━━━━━━━━━━━━━━━━━━━━━\u001b[0m \u001b[32m50.9/50.9 MB\u001b[0m \u001b[31m6.1 MB/s\u001b[0m eta \u001b[36m0:00:00\u001b[0m\n",
            "\u001b[?25hCollecting py4j==0.10.9.3 (from pyspark==3.2.1)\n",
            "  Downloading py4j-0.10.9.3-py2.py3-none-any.whl (198 kB)\n",
            "\u001b[2K     \u001b[90m━━━━━━━━━━━━━━━━━━━━━━━━━━━━━━━━━━━━━━\u001b[0m \u001b[32m199.0/199.0 kB\u001b[0m \u001b[31m20.0 MB/s\u001b[0m eta \u001b[36m0:00:00\u001b[0m\n",
            "\u001b[?25hRequirement already satisfied: numpy>=1.8.2 in /usr/local/lib/python3.10/dist-packages (from systemds==2.2.1) (1.22.4)\n",
            "Requirement already satisfied: requests>=2.24.0 in /usr/local/lib/python3.10/dist-packages (from systemds==2.2.1) (2.27.1)\n",
            "Requirement already satisfied: pandas>=1.2.2 in /usr/local/lib/python3.10/dist-packages (from systemds==2.2.1) (1.5.3)\n",
            "Requirement already satisfied: python-dateutil>=2.8.1 in /usr/local/lib/python3.10/dist-packages (from pandas>=1.2.2->systemds==2.2.1) (2.8.2)\n",
            "Requirement already satisfied: pytz>=2020.1 in /usr/local/lib/python3.10/dist-packages (from pandas>=1.2.2->systemds==2.2.1) (2022.7.1)\n",
            "Requirement already satisfied: urllib3<1.27,>=1.21.1 in /usr/local/lib/python3.10/dist-packages (from requests>=2.24.0->systemds==2.2.1) (1.26.16)\n",
            "Requirement already satisfied: certifi>=2017.4.17 in /usr/local/lib/python3.10/dist-packages (from requests>=2.24.0->systemds==2.2.1) (2023.5.7)\n",
            "Requirement already satisfied: charset-normalizer~=2.0.0 in /usr/local/lib/python3.10/dist-packages (from requests>=2.24.0->systemds==2.2.1) (2.0.12)\n",
            "Requirement already satisfied: idna<4,>=2.5 in /usr/local/lib/python3.10/dist-packages (from requests>=2.24.0->systemds==2.2.1) (3.4)\n",
            "Requirement already satisfied: six>=1.5 in /usr/local/lib/python3.10/dist-packages (from python-dateutil>=2.8.1->pandas>=1.2.2->systemds==2.2.1) (1.16.0)\n",
            "Building wheels for collected packages: pyspark\n",
            "  Building wheel for pyspark (setup.py) ... \u001b[?25l\u001b[?25hdone\n",
            "  Created wheel for pyspark: filename=pyspark-3.2.1-py2.py3-none-any.whl size=281853629 sha256=07fa87515c65dea38aff0e709faf2af4939827f4a26a5d08ce6083ff5c81608c\n",
            "  Stored in directory: /root/.cache/pip/wheels/15/97/bd/52908574a60b5f8e3dc4dc5a0b5be8a59ac20986ee51c2611b\n",
            "Successfully built pyspark\n",
            "Installing collected packages: py4j, pyspark, systemds\n",
            "  Attempting uninstall: py4j\n",
            "    Found existing installation: py4j 0.10.9.7\n",
            "    Uninstalling py4j-0.10.9.7:\n",
            "      Successfully uninstalled py4j-0.10.9.7\n",
            "Successfully installed py4j-0.10.9.3 pyspark-3.2.1 systemds-2.2.1\n"
          ]
        }
      ],
      "source": [
        "pip install pyspark==3.2.1 systemds==2.2.1"
      ]
    },
    {
      "cell_type": "code",
      "source": [
        "import pyspark\n",
        "from pyspark.sql import SparkSession\n",
        "spark = SparkSession.builder.config(\"ML Pipeline\").getOrCreate()"
      ],
      "metadata": {
        "id": "n3nZbgVDCraL"
      },
      "execution_count": null,
      "outputs": []
    },
    {
      "cell_type": "code",
      "source": [
        "!wget https://github.com/IBM/coursera/blob/master/coursera_ml/shake.parquet?raw=true\n",
        "!mv shake.parquet?raw=true shake.parquet"
      ],
      "metadata": {
        "colab": {
          "base_uri": "https://localhost:8080/"
        },
        "id": "mXwc2FuaDvlE",
        "outputId": "16d72e32-2f1b-4b99-a238-b296f527d886"
      },
      "execution_count": null,
      "outputs": [
        {
          "output_type": "stream",
          "name": "stdout",
          "text": [
            "--2023-06-27 08:53:47--  https://github.com/IBM/coursera/blob/master/coursera_ml/shake.parquet?raw=true\n",
            "Resolving github.com (github.com)... 192.30.255.112\n",
            "Connecting to github.com (github.com)|192.30.255.112|:443... connected.\n",
            "HTTP request sent, awaiting response... 301 Moved Permanently\n",
            "Location: https://github.com/claimed-framework/component-library/blob/master/coursera_ml/shake.parquet?raw=true [following]\n",
            "--2023-06-27 08:53:47--  https://github.com/claimed-framework/component-library/blob/master/coursera_ml/shake.parquet?raw=true\n",
            "Reusing existing connection to github.com:443.\n",
            "HTTP request sent, awaiting response... 302 Found\n",
            "Location: https://github.com/claimed-framework/component-library/raw/master/coursera_ml/shake.parquet [following]\n",
            "--2023-06-27 08:53:47--  https://github.com/claimed-framework/component-library/raw/master/coursera_ml/shake.parquet\n",
            "Reusing existing connection to github.com:443.\n",
            "HTTP request sent, awaiting response... 302 Found\n",
            "Location: https://raw.githubusercontent.com/claimed-framework/component-library/master/coursera_ml/shake.parquet [following]\n",
            "--2023-06-27 08:53:47--  https://raw.githubusercontent.com/claimed-framework/component-library/master/coursera_ml/shake.parquet\n",
            "Resolving raw.githubusercontent.com (raw.githubusercontent.com)... 185.199.110.133, 185.199.109.133, 185.199.108.133, ...\n",
            "Connecting to raw.githubusercontent.com (raw.githubusercontent.com)|185.199.110.133|:443... connected.\n",
            "HTTP request sent, awaiting response... 200 OK\n",
            "Length: 74727 (73K) [application/octet-stream]\n",
            "Saving to: ‘shake.parquet?raw=true’\n",
            "\n",
            "shake.parquet?raw=t 100%[===================>]  72.98K  --.-KB/s    in 0.008s  \n",
            "\n",
            "2023-06-27 08:53:47 (8.97 MB/s) - ‘shake.parquet?raw=true’ saved [74727/74727]\n",
            "\n"
          ]
        }
      ]
    },
    {
      "cell_type": "code",
      "source": [
        "df=spark.read.parquet('shake.parquet')"
      ],
      "metadata": {
        "id": "aDE-nLF9D4sX"
      },
      "execution_count": null,
      "outputs": []
    },
    {
      "cell_type": "code",
      "source": [
        "df.show()"
      ],
      "metadata": {
        "colab": {
          "base_uri": "https://localhost:8080/"
        },
        "id": "srukyD-TD9KR",
        "outputId": "07eed5d9-c0cc-4162-dc46-01e4ffe7f3f3"
      },
      "execution_count": null,
      "outputs": [
        {
          "output_type": "stream",
          "name": "stdout",
          "text": [
            "+-----+---------+-----+-----+-----+\n",
            "|CLASS| SENSORID|    X|    Y|    Z|\n",
            "+-----+---------+-----+-----+-----+\n",
            "|    2| qqqqqqqq| 0.12| 0.12| 0.12|\n",
            "|    2|aUniqueID| 0.03| 0.03| 0.03|\n",
            "|    2| qqqqqqqq|-3.84|-3.84|-3.84|\n",
            "|    2| 12345678| -0.1| -0.1| -0.1|\n",
            "|    2| 12345678|-0.15|-0.15|-0.15|\n",
            "|    2| 12345678| 0.47| 0.47| 0.47|\n",
            "|    2| 12345678|-0.06|-0.06|-0.06|\n",
            "|    2| 12345678|-0.09|-0.09|-0.09|\n",
            "|    2| 12345678| 0.21| 0.21| 0.21|\n",
            "|    2| 12345678|-0.08|-0.08|-0.08|\n",
            "|    2| 12345678| 0.44| 0.44| 0.44|\n",
            "|    2|    gholi| 0.76| 0.76| 0.76|\n",
            "|    2|    gholi| 1.62| 1.62| 1.62|\n",
            "|    2|    gholi| 5.81| 5.81| 5.81|\n",
            "|    2| bcbcbcbc| 0.58| 0.58| 0.58|\n",
            "|    2| bcbcbcbc|-8.24|-8.24|-8.24|\n",
            "|    2| bcbcbcbc|-0.45|-0.45|-0.45|\n",
            "|    2| bcbcbcbc| 1.03| 1.03| 1.03|\n",
            "|    2|aUniqueID|-0.05|-0.05|-0.05|\n",
            "|    2| qqqqqqqq|-0.44|-0.44|-0.44|\n",
            "+-----+---------+-----+-----+-----+\n",
            "only showing top 20 rows\n",
            "\n"
          ]
        }
      ]
    },
    {
      "cell_type": "code",
      "source": [
        "unique_names = df.select(\"CLASS\").distinct()\n",
        "unique_names.show()"
      ],
      "metadata": {
        "colab": {
          "base_uri": "https://localhost:8080/"
        },
        "id": "TvCLnxkCECIS",
        "outputId": "22dd8e5f-9017-40a8-a44a-5619a9b8d3fc"
      },
      "execution_count": null,
      "outputs": [
        {
          "output_type": "stream",
          "name": "stdout",
          "text": [
            "+-----+\n",
            "|CLASS|\n",
            "+-----+\n",
            "|    0|\n",
            "|    1|\n",
            "|    2|\n",
            "+-----+\n",
            "\n"
          ]
        }
      ]
    },
    {
      "cell_type": "code",
      "source": [
        "df.createOrReplaceTempView(\"df\")"
      ],
      "metadata": {
        "id": "Wx3S-kblEKzH"
      },
      "execution_count": null,
      "outputs": []
    },
    {
      "cell_type": "code",
      "source": [
        "from pyspark import SparkContext, SparkConf\n",
        "from pyspark.sql import SQLContext, SparkSession\n",
        "from pyspark.sql.types import StructType, StructField, DoubleType, IntegerType, StringType\n",
        "#sc = SparkContext.getOrCreate(SparkConf().setMaster(\"local[*]\"))"
      ],
      "metadata": {
        "id": "cfzncxeqEUrt"
      },
      "execution_count": null,
      "outputs": []
    },
    {
      "cell_type": "code",
      "source": [
        "sc = SparkContext.getOrCreate(SparkConf().setMaster(\"local[*]\"))"
      ],
      "metadata": {
        "id": "tQxg_ANnEbzS"
      },
      "execution_count": null,
      "outputs": []
    },
    {
      "cell_type": "code",
      "source": [
        "from pyspark.sql.functions import monotonically_increasing_id\n",
        "from systemds.context import SystemDSContext\n",
        "import numpy as np\n",
        "import pandas as pd"
      ],
      "metadata": {
        "id": "vKKMAmsNEzIq"
      },
      "execution_count": null,
      "outputs": []
    },
    {
      "cell_type": "code",
      "source": [
        "def dft_systemds(signal,name):\n",
        "\n",
        "\n",
        "    with SystemDSContext(spark) as sds:\n",
        "        size = signal.count()\n",
        "        signal = sds.from_numpy(signal.toPandas().to_numpy())\n",
        "        pi = sds.scalar(3.141592654)\n",
        "\n",
        "        n = sds.seq(0,size-1)\n",
        "        k = sds.seq(0,size-1)\n",
        "\n",
        "        M = (n @ (k.t())) * (2*pi/size)\n",
        "\n",
        "        Xa = M.cos() @ signal\n",
        "        Xb = M.sin() @ signal\n",
        "\n",
        "        index = (list(map(lambda x: [x],np.array(range(0, size, 1)))))\n",
        "        DFT = np.hstack((index,Xa.cbind(Xb).compute()))\n",
        "        DFT_pdf = pd.DataFrame(DFT, columns=list([\"id\",name+'_sin',name+'_cos']))\n",
        "        DFT_df = spark.createDataFrame(DFT_pdf)\n",
        "        return DFT_df"
      ],
      "metadata": {
        "id": "3zMzNvDkFGvf"
      },
      "execution_count": null,
      "outputs": []
    },
    {
      "cell_type": "code",
      "source": [
        "x0 = spark.sql(\"SELECT X from df where CLASS = 1\") ###YOUR_CODE_GOES_HERE### => Please create a DataFrame containing only measurements of class 0 from the x axis\n",
        "y0 = spark.sql(\"SELECT Y from df where CLASS = 1\") ###YOUR_CODE_GOES_HERE### => Please create a DataFrame containing only measurements of class 0 from the y axis\n",
        "z0 = spark.sql(\"SELECT Z from df where CLASS = 1\") ###YOUR_CODE_GOES_HERE### => Please create a DataFrame containing only measurements of class 0 from the z axis\n",
        "x1 = spark.sql(\"SELECT X from df where CLASS = 2\") ###YOUR_CODE_GOES_HERE### => Please create a DataFrame containing only measurements of class 1 from the x axis\n",
        "y1 = spark.sql(\"SELECT Y from df where CLASS = 2\") ###YOUR_CODE_GOES_HERE### => Please create a DataFrame containing only measurements of class 1 from the y axis\n",
        "z1 = spark.sql(\"SELECT Z from df where CLASS = 2\") ###YOUR_CODE_GOES_HERE### => Please create a DataFrame contain"
      ],
      "metadata": {
        "id": "aXeoASlXFLd5"
      },
      "execution_count": null,
      "outputs": []
    },
    {
      "cell_type": "code",
      "source": [
        "x0.show()"
      ],
      "metadata": {
        "colab": {
          "base_uri": "https://localhost:8080/"
        },
        "id": "mPCi15GEFOry",
        "outputId": "6349970c-ac3e-4e9b-9371-40a1995565ee"
      },
      "execution_count": null,
      "outputs": [
        {
          "output_type": "stream",
          "name": "stdout",
          "text": [
            "+-----+\n",
            "|    X|\n",
            "+-----+\n",
            "|  0.0|\n",
            "|  0.0|\n",
            "|  0.0|\n",
            "|  0.0|\n",
            "|  0.0|\n",
            "| 0.01|\n",
            "|-0.01|\n",
            "|-0.01|\n",
            "|  0.0|\n",
            "|-0.01|\n",
            "|-0.01|\n",
            "|  0.0|\n",
            "|  0.0|\n",
            "|-0.01|\n",
            "|  0.0|\n",
            "| 0.01|\n",
            "|-0.01|\n",
            "|-0.01|\n",
            "| 0.01|\n",
            "|  0.0|\n",
            "+-----+\n",
            "only showing top 20 rows\n",
            "\n"
          ]
        }
      ]
    },
    {
      "cell_type": "code",
      "source": [
        "from pyspark.sql.functions import lit\n",
        "\n",
        "df_class_0 = dft_systemds(x0,'x') \\\n",
        "    .join(dft_systemds(y0,'y'), on=['id'], how='inner') \\\n",
        "    .join(dft_systemds(z0,'z'), on=['id'], how='inner') \\\n",
        "    .withColumn('class', lit(0))\n",
        "\n",
        "df_class_1 = dft_systemds(x1,'x') \\\n",
        "    .join(dft_systemds(y1,'y'), on=['id'], how='inner') \\\n",
        "    .join(dft_systemds(z1,'z'), on=['id'], how='inner') \\\n",
        "    .withColumn('class', lit(1))\n",
        "\n",
        "df_dft = df_class_0.union(df_class_1)\n",
        "\n",
        "df_dft.show()"
      ],
      "metadata": {
        "colab": {
          "base_uri": "https://localhost:8080/"
        },
        "id": "vhbKn4SvFRhq",
        "outputId": "ce6325e8-ef90-4bd8-8cdb-82bc0b7d56e1"
      },
      "execution_count": null,
      "outputs": [
        {
          "output_type": "stream",
          "name": "stderr",
          "text": [
            "/usr/local/lib/python3.10/dist-packages/pyspark/sql/pandas/conversion.py:371: FutureWarning: iteritems is deprecated and will be removed in a future version. Use .items instead.\n",
            "  for column, series in pdf.iteritems():\n",
            "/usr/local/lib/python3.10/dist-packages/pyspark/sql/pandas/conversion.py:371: FutureWarning: iteritems is deprecated and will be removed in a future version. Use .items instead.\n",
            "  for column, series in pdf.iteritems():\n",
            "/usr/local/lib/python3.10/dist-packages/pyspark/sql/pandas/conversion.py:371: FutureWarning: iteritems is deprecated and will be removed in a future version. Use .items instead.\n",
            "  for column, series in pdf.iteritems():\n",
            "/usr/local/lib/python3.10/dist-packages/pyspark/sql/pandas/conversion.py:371: FutureWarning: iteritems is deprecated and will be removed in a future version. Use .items instead.\n",
            "  for column, series in pdf.iteritems():\n",
            "/usr/local/lib/python3.10/dist-packages/pyspark/sql/pandas/conversion.py:371: FutureWarning: iteritems is deprecated and will be removed in a future version. Use .items instead.\n",
            "  for column, series in pdf.iteritems():\n",
            "/usr/local/lib/python3.10/dist-packages/pyspark/sql/pandas/conversion.py:371: FutureWarning: iteritems is deprecated and will be removed in a future version. Use .items instead.\n",
            "  for column, series in pdf.iteritems():\n"
          ]
        },
        {
          "output_type": "stream",
          "name": "stdout",
          "text": [
            "+----+--------------------+--------------------+--------------------+--------------------+--------------------+--------------------+-----+\n",
            "|  id|               x_sin|               x_cos|               y_sin|               y_cos|               z_sin|               z_cos|class|\n",
            "+----+--------------------+--------------------+--------------------+--------------------+--------------------+--------------------+-----+\n",
            "| 8.0|0.007264897147586408|0.050779226648936575|0.007264897147586408|0.050779226648936575|0.007264897147586408|0.050779226648936575|    0|\n",
            "| 0.0|               -0.13|                 0.0|               -0.13|                 0.0|               -0.13|                 0.0|    0|\n",
            "| 7.0| 0.04362147198699657| 0.04661273969005281| 0.04362147198699657| 0.04661273969005281| 0.04362147198699657| 0.04661273969005281|    0|\n",
            "|49.0|-0.07768949082949561|0.039133460895471164|-0.07768949082949561|0.039133460895471164|-0.07768949082949561|0.039133460895471164|    0|\n",
            "|29.0|-0.10895275079055323|-0.04017484023996344|-0.10895275079055323|-0.04017484023996344|-0.10895275079055323|-0.04017484023996344|    0|\n",
            "|47.0|-0.00210545483171...|0.005169172060822...|-0.00210545483171...|0.005169172060822...|-0.00210545483171...|0.005169172060822...|    0|\n",
            "|42.0|  0.0877424196298842|-0.04399627953075756|  0.0877424196298842|-0.04399627953075756|  0.0877424196298842|-0.04399627953075756|    0|\n",
            "|44.0|-0.01014654201362...|-0.05732756250962963|-0.01014654201362...|-0.05732756250962963|-0.01014654201362...|-0.05732756250962963|    0|\n",
            "|35.0|0.014917607503647524| 0.13421887799008775|0.014917607503647524| 0.13421887799008775|0.014917607503647524| 0.13421887799008775|    0|\n",
            "|18.0| 0.06178937294558884|-0.03961749197816182| 0.06178937294558884|-0.03961749197816182| 0.06178937294558884|-0.03961749197816182|    0|\n",
            "| 1.0|-0.02887452407349862|0.026700581521828547|-0.02887452407349862|0.026700581521828547|-0.02887452407349862|0.026700581521828547|    0|\n",
            "|39.0| 0.07600499297235766|-0.04165706301892977| 0.07600499297235766|-0.04165706301892977| 0.07600499297235766|-0.04165706301892977|    0|\n",
            "|34.0| 0.03806781864279874| 0.15673003964523352| 0.03806781864279874| 0.15673003964523352| 0.03806781864279874| 0.15673003964523352|    0|\n",
            "|37.0|-0.00895316189594...| -0.0969949270045784|-0.00895316189594...| -0.0969949270045784|-0.00895316189594...| -0.0969949270045784|    0|\n",
            "|25.0|-0.08637555895214044|0.024658537855777297|-0.08637555895214044|0.024658537855777297|-0.08637555895214044|0.024658537855777297|    0|\n",
            "|36.0|-0.05120371181943163|-0.01584424790766...|-0.05120371181943163|-0.01584424790766...|-0.05120371181943163|-0.01584424790766...|    0|\n",
            "|41.0|0.050945537592681445|-0.00299428645504...|0.050945537592681445|-0.00299428645504...|0.050945537592681445|-0.00299428645504...|    0|\n",
            "| 4.0|0.010027156636270794|-0.03439553396608...|0.010027156636270794|-0.03439553396608...|0.010027156636270794|-0.03439553396608...|    0|\n",
            "|23.0|0.045395539393062484|-0.06637518821311544|0.045395539393062484|-0.06637518821311544|0.045395539393062484|-0.06637518821311544|    0|\n",
            "|50.0|-9.90013271400872E-4| 0.02629328644679342|-9.90013271400872E-4| 0.02629328644679342|-9.90013271400872E-4| 0.02629328644679342|    0|\n",
            "+----+--------------------+--------------------+--------------------+--------------------+--------------------+--------------------+-----+\n",
            "only showing top 20 rows\n",
            "\n"
          ]
        }
      ]
    },
    {
      "cell_type": "code",
      "source": [
        "from pyspark.ml.feature import VectorAssembler"
      ],
      "metadata": {
        "id": "_ybev8fEF1oZ"
      },
      "execution_count": null,
      "outputs": []
    },
    {
      "cell_type": "code",
      "source": [
        "vectorAssembler = VectorAssembler(inputCols=['x_sin','x_cos','y_sin','y_cos','z_sin','z_cos'], outputCol=\"features\") ###YOUR_CODE_GOES_HERE###"
      ],
      "metadata": {
        "id": "cWVhTg6fF7AD"
      },
      "execution_count": null,
      "outputs": []
    },
    {
      "cell_type": "code",
      "source": [
        "from pyspark.ml.classification import GBTClassifier\n",
        "classifier = GBTClassifier(labelCol='class', featuresCol='features', maxIter=10) ###YOUR_CODE_GOES_HERE###"
      ],
      "metadata": {
        "id": "BKS5PgMQF91q"
      },
      "execution_count": null,
      "outputs": []
    },
    {
      "cell_type": "code",
      "source": [
        "from pyspark.ml import Pipeline\n",
        "pipeline = Pipeline(stages=[vectorAssembler, classifier])"
      ],
      "metadata": {
        "id": "XinaEGnFGDwW"
      },
      "execution_count": null,
      "outputs": []
    },
    {
      "cell_type": "code",
      "source": [
        "model = pipeline.fit(df_dft)"
      ],
      "metadata": {
        "id": "Q9gMgDOeGGkM"
      },
      "execution_count": null,
      "outputs": []
    },
    {
      "cell_type": "code",
      "source": [
        "prediction = model.transform(df_dft)"
      ],
      "metadata": {
        "id": "RoZ_NuX1GwoQ"
      },
      "execution_count": null,
      "outputs": []
    },
    {
      "cell_type": "code",
      "source": [
        "prediction.show()"
      ],
      "metadata": {
        "colab": {
          "base_uri": "https://localhost:8080/"
        },
        "id": "iC3AX0ycGzVH",
        "outputId": "823aa8d7-481d-4039-de4d-7f938aa63710"
      },
      "execution_count": null,
      "outputs": [
        {
          "output_type": "stream",
          "name": "stdout",
          "text": [
            "+----+--------------------+--------------------+--------------------+--------------------+--------------------+--------------------+-----+--------------------+--------------------+--------------------+----------+\n",
            "|  id|               x_sin|               x_cos|               y_sin|               y_cos|               z_sin|               z_cos|class|            features|       rawPrediction|         probability|prediction|\n",
            "+----+--------------------+--------------------+--------------------+--------------------+--------------------+--------------------+-----+--------------------+--------------------+--------------------+----------+\n",
            "| 8.0|0.007264897147586408|0.050779226648936575|0.007264897147586408|0.050779226648936575|0.007264897147586408|0.050779226648936575|    0|[0.00726489714758...|[0.88066422361181...|[0.85337596077307...|       0.0|\n",
            "| 0.0|               -0.13|                 0.0|               -0.13|                 0.0|               -0.13|                 0.0|    0|[-0.13,0.0,-0.13,...|[0.83002855223973...|[0.84024566850429...|       0.0|\n",
            "| 7.0| 0.04362147198699657| 0.04661273969005281| 0.04362147198699657| 0.04661273969005281| 0.04362147198699657| 0.04661273969005281|    0|[0.04362147198699...|[0.88066422361181...|[0.85337596077307...|       0.0|\n",
            "|49.0|-0.07768949082949561|0.039133460895471164|-0.07768949082949561|0.039133460895471164|-0.07768949082949561|0.039133460895471164|    0|[-0.0776894908294...|[0.83002855223973...|[0.84024566850429...|       0.0|\n",
            "|29.0|-0.10895275079055323|-0.04017484023996344|-0.10895275079055323|-0.04017484023996344|-0.10895275079055323|-0.04017484023996344|    0|[-0.1089527507905...|[0.83002855223973...|[0.84024566850429...|       0.0|\n",
            "|47.0|-0.00210545483171...|0.005169172060822...|-0.00210545483171...|0.005169172060822...|-0.00210545483171...|0.005169172060822...|    0|[-0.0021054548317...|[0.88066422361181...|[0.85337596077307...|       0.0|\n",
            "|42.0|  0.0877424196298842|-0.04399627953075756|  0.0877424196298842|-0.04399627953075756|  0.0877424196298842|-0.04399627953075756|    0|[0.08774241962988...|[0.88066422361181...|[0.85337596077307...|       0.0|\n",
            "|44.0|-0.01014654201362...|-0.05732756250962963|-0.01014654201362...|-0.05732756250962963|-0.01014654201362...|-0.05732756250962963|    0|[-0.0101465420136...|[0.88066422361181...|[0.85337596077307...|       0.0|\n",
            "|35.0|0.014917607503647524| 0.13421887799008775|0.014917607503647524| 0.13421887799008775|0.014917607503647524| 0.13421887799008775|    0|[0.01491760750364...|[0.88066422361181...|[0.85337596077307...|       0.0|\n",
            "|18.0| 0.06178937294558884|-0.03961749197816182| 0.06178937294558884|-0.03961749197816182| 0.06178937294558884|-0.03961749197816182|    0|[0.06178937294558...|[0.88066422361181...|[0.85337596077307...|       0.0|\n",
            "| 1.0|-0.02887452407349862|0.026700581521828547|-0.02887452407349862|0.026700581521828547|-0.02887452407349862|0.026700581521828547|    0|[-0.0288745240734...|[0.83002855223973...|[0.84024566850429...|       0.0|\n",
            "|39.0| 0.07600499297235766|-0.04165706301892977| 0.07600499297235766|-0.04165706301892977| 0.07600499297235766|-0.04165706301892977|    0|[0.07600499297235...|[0.88066422361181...|[0.85337596077307...|       0.0|\n",
            "|34.0| 0.03806781864279874| 0.15673003964523352| 0.03806781864279874| 0.15673003964523352| 0.03806781864279874| 0.15673003964523352|    0|[0.03806781864279...|[0.88066422361181...|[0.85337596077307...|       0.0|\n",
            "|37.0|-0.00895316189594...| -0.0969949270045784|-0.00895316189594...| -0.0969949270045784|-0.00895316189594...| -0.0969949270045784|    0|[-0.0089531618959...|[0.88066422361181...|[0.85337596077307...|       0.0|\n",
            "|25.0|-0.08637555895214044|0.024658537855777297|-0.08637555895214044|0.024658537855777297|-0.08637555895214044|0.024658537855777297|    0|[-0.0863755589521...|[0.83002855223973...|[0.84024566850429...|       0.0|\n",
            "|36.0|-0.05120371181943163|-0.01584424790766...|-0.05120371181943163|-0.01584424790766...|-0.05120371181943163|-0.01584424790766...|    0|[-0.0512037118194...|[0.83002855223973...|[0.84024566850429...|       0.0|\n",
            "|41.0|0.050945537592681445|-0.00299428645504...|0.050945537592681445|-0.00299428645504...|0.050945537592681445|-0.00299428645504...|    0|[0.05094553759268...|[0.88066422361181...|[0.85337596077307...|       0.0|\n",
            "| 4.0|0.010027156636270794|-0.03439553396608...|0.010027156636270794|-0.03439553396608...|0.010027156636270794|-0.03439553396608...|    0|[0.01002715663627...|[0.88066422361181...|[0.85337596077307...|       0.0|\n",
            "|23.0|0.045395539393062484|-0.06637518821311544|0.045395539393062484|-0.06637518821311544|0.045395539393062484|-0.06637518821311544|    0|[0.04539553939306...|[0.88066422361181...|[0.85337596077307...|       0.0|\n",
            "|50.0|-9.90013271400872E-4| 0.02629328644679342|-9.90013271400872E-4| 0.02629328644679342|-9.90013271400872E-4| 0.02629328644679342|    0|[-9.9001327140087...|[0.88066422361181...|[0.85337596077307...|       0.0|\n",
            "+----+--------------------+--------------------+--------------------+--------------------+--------------------+--------------------+-----+--------------------+--------------------+--------------------+----------+\n",
            "only showing top 20 rows\n",
            "\n"
          ]
        }
      ]
    },
    {
      "cell_type": "code",
      "source": [
        "from pyspark.ml.evaluation import MulticlassClassificationEvaluator\n",
        "binEval = MulticlassClassificationEvaluator().setMetricName(\"accuracy\") .setPredictionCol(\"prediction\").setLabelCol(\"class\")\n",
        "\n",
        "binEval.evaluate(prediction)"
      ],
      "metadata": {
        "colab": {
          "base_uri": "https://localhost:8080/"
        },
        "id": "9uxrvc2iG4-4",
        "outputId": "b61d1afc-462b-4043-85ab-ebf7972cbf25"
      },
      "execution_count": null,
      "outputs": [
        {
          "output_type": "execute_result",
          "data": {
            "text/plain": [
              "0.9981761070017225"
            ]
          },
          "metadata": {},
          "execution_count": 33
        }
      ]
    },
    {
      "cell_type": "code",
      "source": [
        "!rm -Rf a2_m4.json"
      ],
      "metadata": {
        "id": "685iXtlXG9IC"
      },
      "execution_count": null,
      "outputs": []
    },
    {
      "cell_type": "code",
      "source": [
        "prediction = prediction.repartition(1)\n",
        "prediction.write.json('a2_m4.json')"
      ],
      "metadata": {
        "id": "lSfxvifSHAmE"
      },
      "execution_count": null,
      "outputs": []
    },
    {
      "cell_type": "code",
      "source": [
        "!rm -f rklib.py\n",
        "!wget wget https://raw.githubusercontent.com/IBM/coursera/master/rklib.py"
      ],
      "metadata": {
        "colab": {
          "base_uri": "https://localhost:8080/"
        },
        "id": "kOHrZ6QdHEiL",
        "outputId": "7ebc9859-2fff-468d-d200-b9c6055b3603"
      },
      "execution_count": null,
      "outputs": [
        {
          "output_type": "stream",
          "name": "stdout",
          "text": [
            "--2023-06-27 09:08:15--  http://wget/\n",
            "Resolving wget (wget)... failed: Name or service not known.\n",
            "wget: unable to resolve host address ‘wget’\n",
            "--2023-06-27 09:08:15--  https://raw.githubusercontent.com/IBM/coursera/master/rklib.py\n",
            "Resolving raw.githubusercontent.com (raw.githubusercontent.com)... 185.199.108.133, 185.199.109.133, 185.199.110.133, ...\n",
            "Connecting to raw.githubusercontent.com (raw.githubusercontent.com)|185.199.108.133|:443... connected.\n",
            "HTTP request sent, awaiting response... 200 OK\n",
            "Length: 2540 (2.5K) [text/plain]\n",
            "Saving to: ‘rklib.py’\n",
            "\n",
            "\rrklib.py              0%[                    ]       0  --.-KB/s               \rrklib.py            100%[===================>]   2.48K  --.-KB/s    in 0s      \n",
            "\n",
            "2023-06-27 09:08:15 (29.3 MB/s) - ‘rklib.py’ saved [2540/2540]\n",
            "\n",
            "FINISHED --2023-06-27 09:08:15--\n",
            "Total wall clock time: 0.3s\n",
            "Downloaded: 1 files, 2.5K in 0s (29.3 MB/s)\n"
          ]
        }
      ]
    },
    {
      "cell_type": "code",
      "source": [
        "from rklib import zipit\n",
        "zipit('a2_m4.json.zip','a2_m4.json')"
      ],
      "metadata": {
        "id": "DuNZa_7zHIar"
      },
      "execution_count": null,
      "outputs": []
    },
    {
      "cell_type": "code",
      "source": [
        "!base64 a2_m4.json.zip > a2_m4.json.zip.base64"
      ],
      "metadata": {
        "id": "9bcPA-sCHLlD"
      },
      "execution_count": null,
      "outputs": []
    },
    {
      "cell_type": "code",
      "source": [
        "from rklib import submit\n",
        "key = \"-fBiYHYDEeiR4QqiFhAvkA\"\n",
        "part = \"IjtJk\"\n",
        "email = \"Sowmyaag@skillup.online\" ###YOUR_CODE_GOES_HERE###\n",
        "submission_token = \"CchQx5U34dXYAwhA\" ###YOUR_CODE_GOES_HERE### # (have a look here if you need more information on how to obtain the token https://youtu.be/GcDo0Rwe06U?t=276)\n",
        "\n",
        "with open('a2_m4.json.zip.base64', 'r') as myfile:\n",
        "    data=myfile.read()\n",
        "submit(email, submission_token, key, part, [part], data)"
      ],
      "metadata": {
        "colab": {
          "base_uri": "https://localhost:8080/"
        },
        "id": "Amh1Y8jYHPCO",
        "outputId": "a2948daf-e23b-41f4-f5d5-1d91e6d7b4a3"
      },
      "execution_count": null,
      "outputs": [
        {
          "output_type": "stream",
          "name": "stdout",
          "text": [
            "Submission successful, please check on the coursera grader page for the status\n",
            "-------------------------\n",
            "{\"elements\":[{\"itemId\":\"B8wXV\",\"id\":\"f_F-qCtuEei_fRLwaVDk3g~B8wXV~ZYDAQhTKEe6cUQp88G_pYQ\",\"courseId\":\"f_F-qCtuEei_fRLwaVDk3g\"}],\"paging\":{},\"linked\":{}}\n",
            "-------------------------\n"
          ]
        }
      ]
    }
  ]
}